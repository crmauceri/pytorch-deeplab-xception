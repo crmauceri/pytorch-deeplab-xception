{
 "cells": [
  {
   "cell_type": "code",
   "execution_count": 19,
   "metadata": {},
   "outputs": [],
   "source": [
    "#!/usr/bin/python\n",
    "import torch\n",
    "import os\n",
    "import pandas as pd\n",
    "import yaml\n",
    "\n",
    "from deeplab3.dataloaders import make_data_loader\n",
    "from deeplab3.config.defaults import get_cfg_defaults\n",
    "from deeplab3.test import Tester"
   ]
  },
  {
   "cell_type": "code",
   "execution_count": 8,
   "metadata": {},
   "outputs": [
    {
     "name": "stdout",
     "output_type": "stream",
     "text": [
      "['../models/run/cityscapes/cityscapes_depthaware_coarse/2020_08_07-11_41_31/parameters.yaml', '../models/run/cityscapes/cityscapes_depthaware_coarse/2020_08_07-11_48_47/parameters.yaml', '../models/run/cityscapes/cityscapes_depthaware_fine/2020_08_04-17_18_18/parameters.yaml', '../models/run/cityscapes/cityscapes_depthaware_fine_coarse/2020_08_06-16_44_58/parameters.yaml', '../models/run/cityscapes/cityscapes_depthaware_fine_coarse/2020_08_09-10_04_31/parameters.yaml', '../models/run/cityscapes/cityscapes_rgb_xception_pt_fine_coarse/2020_08_03-15_41_22/parameters.yaml', '../models/run/cityscapes/cityscapes_rgbd_resnet_coco_fine/2020_08_05-18_17_41/parameters.yaml', '../models/run/cityscapes/cityscapes_rgbd_resnet_coco_fine/2020_08_06-23_14_45/parameters.yaml', '../models/run/cityscapes/cityscapes_rgbd_resnet_coco_fine/2020_08_07-14_44_47/parameters.yaml', '../models/run/cityscapes/cityscapes_rgbd_resnet_coco_fine/2020_08_07-17_11_09/parameters.yaml', '../models/run/cityscapes/cityscapes_rgbd_xception_fine/2020_08_19-17_44_07/parameters.yaml', '../models/run/cityscapes/cityscapes_rgbd_xception_fine_coarse/2020_08_20-15_58_16/parameters.yaml', '../models/run/cityscapes/cityscapes_synth_rgbd_xception/2020_08_25-17_38_38/parameters.yaml', '../models/run/cityscapes/cityscapes_synth_rgbd_xception_fine/2020_08_03-16_58_35/parameters.yaml', '../models/run/coco/coco_rgb_pascal_low_light/2020_08_19-17_42_57/parameters.yaml', '../models/run/coco/coco_rgbd_pascal_low_light/2020_08_19-17_41_24/parameters.yaml', '../models/run/coco/coco_xception/2020_08_27-22_52_53/parameters.yaml', '../models/run/older/parameters.yaml', '../models/run/older/cityscapes_hha_latefusion/2020_04_16/parameters.txt.yaml', '../models/run/older/cityscapes_hha_latefusion_pretrained/2020_04_06/parameters.txt.yaml', '../models/run/older/cityscapes_hha_midfusion/2020_04_16/parameters.txt.yaml', '../models/run/older/cityscapes_hha_midfusion_pretrained/2020_04_06/parameters.txt.yaml', '../models/run/older/cityscapes_midfusion_xception/2020_04_23/parameters.txt.yaml', '../models/run/older/cityscapes_rgb_imagenet/2020-03-30/parameters.txt.yaml', '../models/run/older/cityscapes_rgb_imagenet/2020_04_10/parameters.txt.yaml', '../models/run/older/cityscapes_rgb_xception_pt/2020_04_16/parameters.txt.yaml', '../models/run/older/cityscapes_rgb_xception_pt/2020_04_27-01_43_58/parameters.txt.yaml', '../models/run/older/cityscapes_rgb_xception_pt_fine/2020_04_18/parameters.txt.yaml', '../models/run/older/cityscapes_rgb_xception_pt_fine_coarse/2020_04_27-19_54_52/parameters.txt.yaml', '../models/run/older/cityscapes_rgbd_resnet_deeplab/2020-03-30/parameters.txt.yaml', '../models/run/older/cityscapes_rgbd_resnet_deeplab/2020-03-30c/parameters.txt.yaml', '../models/run/older/cityscapes_rgbd_resnet_deeplab/2020_04_06/parameters.txt.yaml', '../models/run/older/cityscapes_rgbd_xception/2020_04_18/parameters.txt.yaml', '../models/run/older/cityscapes_rgbd_xception_fine/2020_04_26-20_04_07/parameters.txt.yaml', '../models/run/older/cityscapes_rgbd_xception_fine_coarse/2020_04_28-01_42_47/parameters.txt.yaml', '../models/run/older/cityscapes_synth_rgbd_xception/2020_04_18/parameters.txt.yaml', '../models/run/older/cityscapes_synth_rgbd_xception/2020_04_26-20_10_19/parameters.txt.yaml', '../models/run/older/cityscapes_synth_rgbd_xception_fine/2020_04_24-16_25_56/parameters.txt.yaml', '../models/run/older/cityscapes_synth_rgbd_xception_fine_coarse/2020_04_25-14_32_21/parameters.txt.yaml', '../models/run/older/cityscapes_synthetic/2020-03-30b/parameters.txt.yaml', '../models/run/older/cityscapes_synthetic/2020_04_10/parameters.txt.yaml', '../models/run/older/coco_rgb_resnet_deeplab/2020-03-13/parameters.txt.yaml', '../models/run/older/coco_rgb_resnet_deeplab/2020_04_10/parameters.txt.yaml', '../models/run/older/coco_rgb_resnet_scratch/2020-03-29/parameters.txt.yaml', '../models/run/older/coco_rgb_resnet_scratch/2020_04_10/parameters.txt.yaml', '../models/run/older/coco_rgbd_resnet/2020_04_24-15_35_25/parameters.txt.yaml', '../models/run/older/coco_rgbd_resnet_deeplab/2020-02-24/parameters.txt.yaml', '../models/run/older/coco_rgbd_resnet_deeplab/2020_04_10/parameters.txt.yaml', '../models/run/older/scenenet_rgbd_resnet_deeplab/2020-03-14/parameters.txt.yaml', '../models/run/older/scenenet_rgbd_resnet_deeplab/2020-03-24/parameters.txt.yaml', '../models/run/older/sunrgbd_rgbd_resnet_deeplab/2020-02-26/parameters.txt.yaml', '../models/run/scenenet/scenenet_rgbd_resnet_deeplab/2020_08_06-23_47_31/parameters.yaml', '../models/run/scenenet/scenenet_rgbd_xception_low_light/2020_08_25-17_36_30/parameters.yaml']\n"
     ]
    }
   ],
   "source": [
    "# traverse root directory, and list directories as dirs and files as files\n",
    "model_configs = []\n",
    "for root, dirs, files in os.walk(\"../models/\"):\n",
    "    path = root.split(os.sep)\n",
    "    for file in files:\n",
    "        if file == \"parameters.txt.yaml\" or file==\"parameters.yaml\":\n",
    "            model_configs.append(os.path.join(path, file))\n",
    "print(model_configs)"
   ]
  },
  {
   "cell_type": "code",
   "execution_count": 40,
   "metadata": {},
   "outputs": [],
   "source": [
    "def flatten_cfg(cfg_dict, prefix=None):\n",
    "    flattened = {}\n",
    "    for key, value in cfg_dict.items():\n",
    "        if prefix is None:\n",
    "            prefixed_key = key\n",
    "        else:\n",
    "            prefixed_key = \"{}.{}\".format(prefix, key)\n",
    "            \n",
    "        if not isinstance(value, dict):\n",
    "            flattened[prefixed_key] = value\n",
    "        else:\n",
    "            flattened.update(flatten_cfg(value, prefixed_key))\n",
    "    return flattened"
   ]
  },
  {
   "cell_type": "code",
   "execution_count": 44,
   "metadata": {},
   "outputs": [
    {
     "name": "stderr",
     "output_type": "stream",
     "text": [
      "/Users/Mauceri/anaconda/envs/detectron2/lib/python3.7/site-packages/ipykernel_launcher.py:5: YAMLLoadWarning: calling yaml.load() without Loader=... is deprecated, as the default Loader is unsafe. Please read https://msg.pyyaml.org/load for full details.\n",
      "  \"\"\"\n"
     ]
    },
    {
     "name": "stdout",
     "output_type": "stream",
     "text": [
      "Type mismatch (<class 'float'> vs. <class 'int'>) with values (1.0 vs. 1) for config key: TRAIN.EVAL_INTERVAL\n",
      "Using RGB-D input\n",
      "Found 19997 train_extra images\n",
      "Using RGB-D input\n",
      "Found 500 val images\n",
      "Using RGB-D input\n",
      "Found 1525 test images\n",
      "Training backbone from scratch\n"
     ]
    },
    {
     "ename": "AssertionError",
     "evalue": "Torch not compiled with CUDA enabled",
     "output_type": "error",
     "traceback": [
      "\u001b[0;31m---------------------------------------------------------------------------\u001b[0m",
      "\u001b[0;31mAssertionError\u001b[0m                            Traceback (most recent call last)",
      "\u001b[0;32m<ipython-input-44-ece50ebd5745>\u001b[0m in \u001b[0;36m<module>\u001b[0;34m\u001b[0m\n\u001b[1;32m     18\u001b[0m     \u001b[0mtorch\u001b[0m\u001b[0;34m.\u001b[0m\u001b[0mmanual_seed\u001b[0m\u001b[0;34m(\u001b[0m\u001b[0mcfg\u001b[0m\u001b[0;34m.\u001b[0m\u001b[0mSYSTEM\u001b[0m\u001b[0;34m.\u001b[0m\u001b[0mSEED\u001b[0m\u001b[0;34m)\u001b[0m\u001b[0;34m\u001b[0m\u001b[0;34m\u001b[0m\u001b[0m\n\u001b[1;32m     19\u001b[0m     \u001b[0mtrain_loader\u001b[0m\u001b[0;34m,\u001b[0m \u001b[0mval_loader\u001b[0m\u001b[0;34m,\u001b[0m \u001b[0mtest_loader\u001b[0m\u001b[0;34m,\u001b[0m \u001b[0mnum_classes\u001b[0m \u001b[0;34m=\u001b[0m \u001b[0mmake_data_loader\u001b[0m\u001b[0;34m(\u001b[0m\u001b[0mcfg\u001b[0m\u001b[0;34m)\u001b[0m\u001b[0;34m\u001b[0m\u001b[0;34m\u001b[0m\u001b[0m\n\u001b[0;32m---> 20\u001b[0;31m     \u001b[0mtester\u001b[0m \u001b[0;34m=\u001b[0m \u001b[0mTester\u001b[0m\u001b[0;34m(\u001b[0m\u001b[0mcfg\u001b[0m\u001b[0;34m)\u001b[0m\u001b[0;34m\u001b[0m\u001b[0;34m\u001b[0m\u001b[0m\n\u001b[0m\u001b[1;32m     21\u001b[0m     \u001b[0moutput\u001b[0m\u001b[0;34m,\u001b[0m \u001b[0mmat\u001b[0m \u001b[0;34m=\u001b[0m \u001b[0mtester\u001b[0m\u001b[0;34m.\u001b[0m\u001b[0mrun\u001b[0m\u001b[0;34m(\u001b[0m\u001b[0mval_loader\u001b[0m\u001b[0;34m,\u001b[0m \u001b[0mnum_classes\u001b[0m\u001b[0;34m)\u001b[0m\u001b[0;34m\u001b[0m\u001b[0;34m\u001b[0m\u001b[0m\n\u001b[1;32m     22\u001b[0m     \u001b[0mmodel_output\u001b[0m\u001b[0;34m[\u001b[0m\u001b[0mmodel_cfg\u001b[0m\u001b[0;34m]\u001b[0m \u001b[0;34m=\u001b[0m \u001b[0moutput\u001b[0m\u001b[0;34m\u001b[0m\u001b[0;34m\u001b[0m\u001b[0m\n",
      "\u001b[0;32m~/Workspace/DepthNetworks/pytorch_deeplab_xception/deeplab3/test.py\u001b[0m in \u001b[0;36m__init__\u001b[0;34m(self, cfg)\u001b[0m\n\u001b[1;32m     26\u001b[0m \u001b[0;34m\u001b[0m\u001b[0m\n\u001b[1;32m     27\u001b[0m         \u001b[0;31m# Define Model and Load from File\u001b[0m\u001b[0;34m\u001b[0m\u001b[0;34m\u001b[0m\u001b[0;34m\u001b[0m\u001b[0m\n\u001b[0;32m---> 28\u001b[0;31m         \u001b[0mself\u001b[0m\u001b[0;34m.\u001b[0m\u001b[0mmodel\u001b[0m \u001b[0;34m=\u001b[0m \u001b[0mload_model\u001b[0m\u001b[0;34m(\u001b[0m\u001b[0mcfg\u001b[0m\u001b[0;34m)\u001b[0m\u001b[0;34m\u001b[0m\u001b[0;34m\u001b[0m\u001b[0m\n\u001b[0m\u001b[1;32m     29\u001b[0m \u001b[0;34m\u001b[0m\u001b[0m\n\u001b[1;32m     30\u001b[0m         \u001b[0;31m# Define Criterion\u001b[0m\u001b[0;34m\u001b[0m\u001b[0;34m\u001b[0m\u001b[0;34m\u001b[0m\u001b[0m\n",
      "\u001b[0;32m~/Workspace/DepthNetworks/pytorch_deeplab_xception/deeplab3/modeling/__init__.py\u001b[0m in \u001b[0;36mload_model\u001b[0;34m(cfg)\u001b[0m\n\u001b[1;32m     20\u001b[0m     \u001b[0;32mif\u001b[0m \u001b[0mcfg\u001b[0m\u001b[0;34m.\u001b[0m\u001b[0mSYSTEM\u001b[0m\u001b[0;34m.\u001b[0m\u001b[0mCUDA\u001b[0m\u001b[0;34m:\u001b[0m\u001b[0;34m\u001b[0m\u001b[0;34m\u001b[0m\u001b[0m\n\u001b[1;32m     21\u001b[0m         \u001b[0mmodel\u001b[0m \u001b[0;34m=\u001b[0m \u001b[0mtorch\u001b[0m\u001b[0;34m.\u001b[0m\u001b[0mnn\u001b[0m\u001b[0;34m.\u001b[0m\u001b[0mDataParallel\u001b[0m\u001b[0;34m(\u001b[0m\u001b[0mmodel\u001b[0m\u001b[0;34m,\u001b[0m \u001b[0mdevice_ids\u001b[0m\u001b[0;34m=\u001b[0m\u001b[0mcfg\u001b[0m\u001b[0;34m.\u001b[0m\u001b[0mSYSTEM\u001b[0m\u001b[0;34m.\u001b[0m\u001b[0mGPU_IDS\u001b[0m\u001b[0;34m)\u001b[0m\u001b[0;34m\u001b[0m\u001b[0;34m\u001b[0m\u001b[0m\n\u001b[0;32m---> 22\u001b[0;31m         \u001b[0mmodel\u001b[0m \u001b[0;34m=\u001b[0m \u001b[0mmodel\u001b[0m\u001b[0;34m.\u001b[0m\u001b[0mcuda\u001b[0m\u001b[0;34m(\u001b[0m\u001b[0;34m)\u001b[0m\u001b[0;34m\u001b[0m\u001b[0;34m\u001b[0m\u001b[0m\n\u001b[0m\u001b[1;32m     23\u001b[0m \u001b[0;34m\u001b[0m\u001b[0m\n\u001b[1;32m     24\u001b[0m     \u001b[0mmodel_filepath\u001b[0m \u001b[0;34m=\u001b[0m \u001b[0mos\u001b[0m\u001b[0;34m.\u001b[0m\u001b[0mpath\u001b[0m\u001b[0;34m.\u001b[0m\u001b[0mjoin\u001b[0m\u001b[0;34m(\u001b[0m\u001b[0mcfg\u001b[0m\u001b[0;34m.\u001b[0m\u001b[0mCHECKPOINT\u001b[0m\u001b[0;34m.\u001b[0m\u001b[0mDIRECTORY\u001b[0m\u001b[0;34m,\u001b[0m \u001b[0mcfg\u001b[0m\u001b[0;34m.\u001b[0m\u001b[0mCHECKPOINT\u001b[0m\u001b[0;34m.\u001b[0m\u001b[0mMODEL\u001b[0m\u001b[0;34m)\u001b[0m\u001b[0;34m\u001b[0m\u001b[0;34m\u001b[0m\u001b[0m\n",
      "\u001b[0;32m~/anaconda/envs/detectron2/lib/python3.7/site-packages/torch/nn/modules/module.py\u001b[0m in \u001b[0;36mcuda\u001b[0;34m(self, device)\u001b[0m\n\u001b[1;32m    303\u001b[0m             \u001b[0mModule\u001b[0m\u001b[0;34m:\u001b[0m \u001b[0mself\u001b[0m\u001b[0;34m\u001b[0m\u001b[0;34m\u001b[0m\u001b[0m\n\u001b[1;32m    304\u001b[0m         \"\"\"\n\u001b[0;32m--> 305\u001b[0;31m         \u001b[0;32mreturn\u001b[0m \u001b[0mself\u001b[0m\u001b[0;34m.\u001b[0m\u001b[0m_apply\u001b[0m\u001b[0;34m(\u001b[0m\u001b[0;32mlambda\u001b[0m \u001b[0mt\u001b[0m\u001b[0;34m:\u001b[0m \u001b[0mt\u001b[0m\u001b[0;34m.\u001b[0m\u001b[0mcuda\u001b[0m\u001b[0;34m(\u001b[0m\u001b[0mdevice\u001b[0m\u001b[0;34m)\u001b[0m\u001b[0;34m)\u001b[0m\u001b[0;34m\u001b[0m\u001b[0;34m\u001b[0m\u001b[0m\n\u001b[0m\u001b[1;32m    306\u001b[0m \u001b[0;34m\u001b[0m\u001b[0m\n\u001b[1;32m    307\u001b[0m     \u001b[0;32mdef\u001b[0m \u001b[0mcpu\u001b[0m\u001b[0;34m(\u001b[0m\u001b[0mself\u001b[0m\u001b[0;34m)\u001b[0m\u001b[0;34m:\u001b[0m\u001b[0;34m\u001b[0m\u001b[0;34m\u001b[0m\u001b[0m\n",
      "\u001b[0;32m~/anaconda/envs/detectron2/lib/python3.7/site-packages/torch/nn/modules/module.py\u001b[0m in \u001b[0;36m_apply\u001b[0;34m(self, fn)\u001b[0m\n\u001b[1;32m    200\u001b[0m     \u001b[0;32mdef\u001b[0m \u001b[0m_apply\u001b[0m\u001b[0;34m(\u001b[0m\u001b[0mself\u001b[0m\u001b[0;34m,\u001b[0m \u001b[0mfn\u001b[0m\u001b[0;34m)\u001b[0m\u001b[0;34m:\u001b[0m\u001b[0;34m\u001b[0m\u001b[0;34m\u001b[0m\u001b[0m\n\u001b[1;32m    201\u001b[0m         \u001b[0;32mfor\u001b[0m \u001b[0mmodule\u001b[0m \u001b[0;32min\u001b[0m \u001b[0mself\u001b[0m\u001b[0;34m.\u001b[0m\u001b[0mchildren\u001b[0m\u001b[0;34m(\u001b[0m\u001b[0;34m)\u001b[0m\u001b[0;34m:\u001b[0m\u001b[0;34m\u001b[0m\u001b[0;34m\u001b[0m\u001b[0m\n\u001b[0;32m--> 202\u001b[0;31m             \u001b[0mmodule\u001b[0m\u001b[0;34m.\u001b[0m\u001b[0m_apply\u001b[0m\u001b[0;34m(\u001b[0m\u001b[0mfn\u001b[0m\u001b[0;34m)\u001b[0m\u001b[0;34m\u001b[0m\u001b[0;34m\u001b[0m\u001b[0m\n\u001b[0m\u001b[1;32m    203\u001b[0m \u001b[0;34m\u001b[0m\u001b[0m\n\u001b[1;32m    204\u001b[0m         \u001b[0;32mdef\u001b[0m \u001b[0mcompute_should_use_set_data\u001b[0m\u001b[0;34m(\u001b[0m\u001b[0mtensor\u001b[0m\u001b[0;34m,\u001b[0m \u001b[0mtensor_applied\u001b[0m\u001b[0;34m)\u001b[0m\u001b[0;34m:\u001b[0m\u001b[0;34m\u001b[0m\u001b[0;34m\u001b[0m\u001b[0m\n",
      "\u001b[0;32m~/anaconda/envs/detectron2/lib/python3.7/site-packages/torch/nn/modules/module.py\u001b[0m in \u001b[0;36m_apply\u001b[0;34m(self, fn)\u001b[0m\n\u001b[1;32m    200\u001b[0m     \u001b[0;32mdef\u001b[0m \u001b[0m_apply\u001b[0m\u001b[0;34m(\u001b[0m\u001b[0mself\u001b[0m\u001b[0;34m,\u001b[0m \u001b[0mfn\u001b[0m\u001b[0;34m)\u001b[0m\u001b[0;34m:\u001b[0m\u001b[0;34m\u001b[0m\u001b[0;34m\u001b[0m\u001b[0m\n\u001b[1;32m    201\u001b[0m         \u001b[0;32mfor\u001b[0m \u001b[0mmodule\u001b[0m \u001b[0;32min\u001b[0m \u001b[0mself\u001b[0m\u001b[0;34m.\u001b[0m\u001b[0mchildren\u001b[0m\u001b[0;34m(\u001b[0m\u001b[0;34m)\u001b[0m\u001b[0;34m:\u001b[0m\u001b[0;34m\u001b[0m\u001b[0;34m\u001b[0m\u001b[0m\n\u001b[0;32m--> 202\u001b[0;31m             \u001b[0mmodule\u001b[0m\u001b[0;34m.\u001b[0m\u001b[0m_apply\u001b[0m\u001b[0;34m(\u001b[0m\u001b[0mfn\u001b[0m\u001b[0;34m)\u001b[0m\u001b[0;34m\u001b[0m\u001b[0;34m\u001b[0m\u001b[0m\n\u001b[0m\u001b[1;32m    203\u001b[0m \u001b[0;34m\u001b[0m\u001b[0m\n\u001b[1;32m    204\u001b[0m         \u001b[0;32mdef\u001b[0m \u001b[0mcompute_should_use_set_data\u001b[0m\u001b[0;34m(\u001b[0m\u001b[0mtensor\u001b[0m\u001b[0;34m,\u001b[0m \u001b[0mtensor_applied\u001b[0m\u001b[0;34m)\u001b[0m\u001b[0;34m:\u001b[0m\u001b[0;34m\u001b[0m\u001b[0;34m\u001b[0m\u001b[0m\n",
      "\u001b[0;32m~/anaconda/envs/detectron2/lib/python3.7/site-packages/torch/nn/modules/module.py\u001b[0m in \u001b[0;36m_apply\u001b[0;34m(self, fn)\u001b[0m\n\u001b[1;32m    200\u001b[0m     \u001b[0;32mdef\u001b[0m \u001b[0m_apply\u001b[0m\u001b[0;34m(\u001b[0m\u001b[0mself\u001b[0m\u001b[0;34m,\u001b[0m \u001b[0mfn\u001b[0m\u001b[0;34m)\u001b[0m\u001b[0;34m:\u001b[0m\u001b[0;34m\u001b[0m\u001b[0;34m\u001b[0m\u001b[0m\n\u001b[1;32m    201\u001b[0m         \u001b[0;32mfor\u001b[0m \u001b[0mmodule\u001b[0m \u001b[0;32min\u001b[0m \u001b[0mself\u001b[0m\u001b[0;34m.\u001b[0m\u001b[0mchildren\u001b[0m\u001b[0;34m(\u001b[0m\u001b[0;34m)\u001b[0m\u001b[0;34m:\u001b[0m\u001b[0;34m\u001b[0m\u001b[0;34m\u001b[0m\u001b[0m\n\u001b[0;32m--> 202\u001b[0;31m             \u001b[0mmodule\u001b[0m\u001b[0;34m.\u001b[0m\u001b[0m_apply\u001b[0m\u001b[0;34m(\u001b[0m\u001b[0mfn\u001b[0m\u001b[0;34m)\u001b[0m\u001b[0;34m\u001b[0m\u001b[0;34m\u001b[0m\u001b[0m\n\u001b[0m\u001b[1;32m    203\u001b[0m \u001b[0;34m\u001b[0m\u001b[0m\n\u001b[1;32m    204\u001b[0m         \u001b[0;32mdef\u001b[0m \u001b[0mcompute_should_use_set_data\u001b[0m\u001b[0;34m(\u001b[0m\u001b[0mtensor\u001b[0m\u001b[0;34m,\u001b[0m \u001b[0mtensor_applied\u001b[0m\u001b[0;34m)\u001b[0m\u001b[0;34m:\u001b[0m\u001b[0;34m\u001b[0m\u001b[0;34m\u001b[0m\u001b[0m\n",
      "\u001b[0;32m~/anaconda/envs/detectron2/lib/python3.7/site-packages/torch/nn/modules/module.py\u001b[0m in \u001b[0;36m_apply\u001b[0;34m(self, fn)\u001b[0m\n\u001b[1;32m    222\u001b[0m                 \u001b[0;31m# `with torch.no_grad():`\u001b[0m\u001b[0;34m\u001b[0m\u001b[0;34m\u001b[0m\u001b[0;34m\u001b[0m\u001b[0m\n\u001b[1;32m    223\u001b[0m                 \u001b[0;32mwith\u001b[0m \u001b[0mtorch\u001b[0m\u001b[0;34m.\u001b[0m\u001b[0mno_grad\u001b[0m\u001b[0;34m(\u001b[0m\u001b[0;34m)\u001b[0m\u001b[0;34m:\u001b[0m\u001b[0;34m\u001b[0m\u001b[0;34m\u001b[0m\u001b[0m\n\u001b[0;32m--> 224\u001b[0;31m                     \u001b[0mparam_applied\u001b[0m \u001b[0;34m=\u001b[0m \u001b[0mfn\u001b[0m\u001b[0;34m(\u001b[0m\u001b[0mparam\u001b[0m\u001b[0;34m)\u001b[0m\u001b[0;34m\u001b[0m\u001b[0;34m\u001b[0m\u001b[0m\n\u001b[0m\u001b[1;32m    225\u001b[0m                 \u001b[0mshould_use_set_data\u001b[0m \u001b[0;34m=\u001b[0m \u001b[0mcompute_should_use_set_data\u001b[0m\u001b[0;34m(\u001b[0m\u001b[0mparam\u001b[0m\u001b[0;34m,\u001b[0m \u001b[0mparam_applied\u001b[0m\u001b[0;34m)\u001b[0m\u001b[0;34m\u001b[0m\u001b[0;34m\u001b[0m\u001b[0m\n\u001b[1;32m    226\u001b[0m                 \u001b[0;32mif\u001b[0m \u001b[0mshould_use_set_data\u001b[0m\u001b[0;34m:\u001b[0m\u001b[0;34m\u001b[0m\u001b[0;34m\u001b[0m\u001b[0m\n",
      "\u001b[0;32m~/anaconda/envs/detectron2/lib/python3.7/site-packages/torch/nn/modules/module.py\u001b[0m in \u001b[0;36m<lambda>\u001b[0;34m(t)\u001b[0m\n\u001b[1;32m    303\u001b[0m             \u001b[0mModule\u001b[0m\u001b[0;34m:\u001b[0m \u001b[0mself\u001b[0m\u001b[0;34m\u001b[0m\u001b[0;34m\u001b[0m\u001b[0m\n\u001b[1;32m    304\u001b[0m         \"\"\"\n\u001b[0;32m--> 305\u001b[0;31m         \u001b[0;32mreturn\u001b[0m \u001b[0mself\u001b[0m\u001b[0;34m.\u001b[0m\u001b[0m_apply\u001b[0m\u001b[0;34m(\u001b[0m\u001b[0;32mlambda\u001b[0m \u001b[0mt\u001b[0m\u001b[0;34m:\u001b[0m \u001b[0mt\u001b[0m\u001b[0;34m.\u001b[0m\u001b[0mcuda\u001b[0m\u001b[0;34m(\u001b[0m\u001b[0mdevice\u001b[0m\u001b[0;34m)\u001b[0m\u001b[0;34m)\u001b[0m\u001b[0;34m\u001b[0m\u001b[0;34m\u001b[0m\u001b[0m\n\u001b[0m\u001b[1;32m    306\u001b[0m \u001b[0;34m\u001b[0m\u001b[0m\n\u001b[1;32m    307\u001b[0m     \u001b[0;32mdef\u001b[0m \u001b[0mcpu\u001b[0m\u001b[0;34m(\u001b[0m\u001b[0mself\u001b[0m\u001b[0;34m)\u001b[0m\u001b[0;34m:\u001b[0m\u001b[0;34m\u001b[0m\u001b[0;34m\u001b[0m\u001b[0m\n",
      "\u001b[0;32m~/anaconda/envs/detectron2/lib/python3.7/site-packages/torch/cuda/__init__.py\u001b[0m in \u001b[0;36m_lazy_init\u001b[0;34m()\u001b[0m\n\u001b[1;32m    190\u001b[0m             raise RuntimeError(\n\u001b[1;32m    191\u001b[0m                 \"Cannot re-initialize CUDA in forked subprocess. \" + msg)\n\u001b[0;32m--> 192\u001b[0;31m         \u001b[0m_check_driver\u001b[0m\u001b[0;34m(\u001b[0m\u001b[0;34m)\u001b[0m\u001b[0;34m\u001b[0m\u001b[0;34m\u001b[0m\u001b[0m\n\u001b[0m\u001b[1;32m    193\u001b[0m         \u001b[0mtorch\u001b[0m\u001b[0;34m.\u001b[0m\u001b[0m_C\u001b[0m\u001b[0;34m.\u001b[0m\u001b[0m_cuda_init\u001b[0m\u001b[0;34m(\u001b[0m\u001b[0;34m)\u001b[0m\u001b[0;34m\u001b[0m\u001b[0;34m\u001b[0m\u001b[0m\n\u001b[1;32m    194\u001b[0m         \u001b[0m_cudart\u001b[0m \u001b[0;34m=\u001b[0m \u001b[0m_load_cudart\u001b[0m\u001b[0;34m(\u001b[0m\u001b[0;34m)\u001b[0m\u001b[0;34m\u001b[0m\u001b[0;34m\u001b[0m\u001b[0m\n",
      "\u001b[0;32m~/anaconda/envs/detectron2/lib/python3.7/site-packages/torch/cuda/__init__.py\u001b[0m in \u001b[0;36m_check_driver\u001b[0;34m()\u001b[0m\n\u001b[1;32m     93\u001b[0m \u001b[0;32mdef\u001b[0m \u001b[0m_check_driver\u001b[0m\u001b[0;34m(\u001b[0m\u001b[0;34m)\u001b[0m\u001b[0;34m:\u001b[0m\u001b[0;34m\u001b[0m\u001b[0;34m\u001b[0m\u001b[0m\n\u001b[1;32m     94\u001b[0m     \u001b[0;32mif\u001b[0m \u001b[0;32mnot\u001b[0m \u001b[0mhasattr\u001b[0m\u001b[0;34m(\u001b[0m\u001b[0mtorch\u001b[0m\u001b[0;34m.\u001b[0m\u001b[0m_C\u001b[0m\u001b[0;34m,\u001b[0m \u001b[0;34m'_cuda_isDriverSufficient'\u001b[0m\u001b[0;34m)\u001b[0m\u001b[0;34m:\u001b[0m\u001b[0;34m\u001b[0m\u001b[0;34m\u001b[0m\u001b[0m\n\u001b[0;32m---> 95\u001b[0;31m         \u001b[0;32mraise\u001b[0m \u001b[0mAssertionError\u001b[0m\u001b[0;34m(\u001b[0m\u001b[0;34m\"Torch not compiled with CUDA enabled\"\u001b[0m\u001b[0;34m)\u001b[0m\u001b[0;34m\u001b[0m\u001b[0;34m\u001b[0m\u001b[0m\n\u001b[0m\u001b[1;32m     96\u001b[0m     \u001b[0;32mif\u001b[0m \u001b[0;32mnot\u001b[0m \u001b[0mtorch\u001b[0m\u001b[0;34m.\u001b[0m\u001b[0m_C\u001b[0m\u001b[0;34m.\u001b[0m\u001b[0m_cuda_isDriverSufficient\u001b[0m\u001b[0;34m(\u001b[0m\u001b[0;34m)\u001b[0m\u001b[0;34m:\u001b[0m\u001b[0;34m\u001b[0m\u001b[0;34m\u001b[0m\u001b[0m\n\u001b[1;32m     97\u001b[0m         \u001b[0;32mif\u001b[0m \u001b[0mtorch\u001b[0m\u001b[0;34m.\u001b[0m\u001b[0m_C\u001b[0m\u001b[0;34m.\u001b[0m\u001b[0m_cuda_getDriverVersion\u001b[0m\u001b[0;34m(\u001b[0m\u001b[0;34m)\u001b[0m \u001b[0;34m==\u001b[0m \u001b[0;36m0\u001b[0m\u001b[0;34m:\u001b[0m\u001b[0;34m\u001b[0m\u001b[0;34m\u001b[0m\u001b[0m\n",
      "\u001b[0;31mAssertionError\u001b[0m: Torch not compiled with CUDA enabled"
     ]
    }
   ],
   "source": [
    "model_output = {}\n",
    "for cfg_filepath in model_configs:\n",
    "    cfg = get_cfg_defaults()\n",
    "    with open(cfg_filepath, 'r') as f:\n",
    "        model_cfg = yaml.load(f)\n",
    "        model_cfg = flatten_cfg(model_cfg)\n",
    "    for key, value in model_cfg.items():\n",
    "        if not key.startswith(\"CHECKPOINT\"):\n",
    "            try:\n",
    "                cfg.merge_from_list([key, value])\n",
    "            except ValueError as e:\n",
    "                print(e)\n",
    "                \n",
    "    cfg.merge_from_list(['CHECKPOINT.DIRECTORY', os.path.dirname(cfg_filepath)])\n",
    "    if cfg.DATASET.ROOT.startswith(\"datasets\"):\n",
    "        cfg.merge_from_list(['DATASET.ROOT', \"../\" + cfg.DATASET.ROOT])\n",
    "\n",
    "    torch.manual_seed(cfg.SYSTEM.SEED)\n",
    "    train_loader, val_loader, test_loader, num_classes = make_data_loader(cfg)\n",
    "    tester = Tester(cfg)\n",
    "    output, mat = tester.run(val_loader, num_classes)\n",
    "        \n",
    "    model_output[cfg_filepath] = output\n",
    "    break"
   ]
  },
  {
   "cell_type": "code",
   "execution_count": 46,
   "metadata": {},
   "outputs": [
    {
     "name": "stdout",
     "output_type": "stream",
     "text": [
      "CHECKPOINT:\n",
      "  DIRECTORY: ../models/run/cityscapes/cityscapes_depthaware_coarse/2020_08_07-11_41_31\n",
      "  EXCLUDE: []\n",
      "  MODEL: checkpoint.pth.tar\n",
      "  RESUME: False\n",
      "DATASET:\n",
      "  BASE_SIZE: 513\n",
      "  CITYSCAPES:\n",
      "    DEPTH_DIR: disparity\n",
      "    GT_MODE: gtCoarse\n",
      "    TRAIN_SET: train_extra\n",
      "  COCO:\n",
      "    CATEGORIES: coco\n",
      "  CROP_SIZE: 513\n",
      "  DARKEN: False\n",
      "  MODE: RGBD\n",
      "  NAME: cityscapes\n",
      "  N_CLASSES: 19\n",
      "  POWER_TRANSFORM: False\n",
      "  PT_LAMBDA: -0.5\n",
      "  ROOT: ../datasets/cityscapes/\n",
      "  SYNTHETIC: False\n",
      "  USE_STD: True\n",
      "EVALUATOR:\n",
      "  NAME: segmentation\n",
      "MODEL:\n",
      "  ASPP_DOUBLE: False\n",
      "  BACKBONE: depthaware_resnet\n",
      "  BACKBONE_ZOO: False\n",
      "  DECODER_DOUBLE: False\n",
      "  FREEZE_BN: False\n",
      "  INPUT_CHANNELS: 4\n",
      "  LOSS_TYPE: ce\n",
      "  MOBILENET:\n",
      "    WIDTH_MULT: 1.0\n",
      "  NAME: deeplab\n",
      "  OUT_STRIDE: 16\n",
      "  PRETRAINED: \n",
      "  RESNET:\n",
      "    DEEPLAB_OUTPUT: True\n",
      "    OUT_FEATURES: ['res5', 'res2']\n",
      "  SYNC_BN: False\n",
      "  VGG16:\n",
      "    BN: True\n",
      "    DEPTH_CONV: True\n",
      "SYSTEM:\n",
      "  CUDA: True\n",
      "  GPU_IDS: [1]\n",
      "  NO_CUDA: False\n",
      "  NUM_WORKERS: 4\n",
      "  SEED: 1\n",
      "TEST:\n",
      "  BATCH_SIZE: 4\n",
      "TRAIN:\n",
      "  BATCH_SIZE: 4\n",
      "  CHECKNAME: cityscapes_depthaware_coarse\n",
      "  EPOCHS: 200\n",
      "  EVAL_INTERVAL: 1.0\n",
      "  FINETUNE: False\n",
      "  LR: 0.001\n",
      "  NO_VAL: False\n",
      "  START_EPOCH: 0\n",
      "  USE_BALANCED_WEIGHTS: False\n",
      "  VAL_MAX: -1\n"
     ]
    }
   ],
   "source": [
    "print(cfg)"
   ]
  },
  {
   "cell_type": "code",
   "execution_count": 79,
   "metadata": {},
   "outputs": [],
   "source": [
    "pd.options.display.max_colwidth = 35\n",
    "pd.options.display.max_rows = 100\n",
    "\n",
    "df = pd.DataFrame(model_results)\n",
    "df = df.sort_values('value', ascending=False)\n",
    "\n",
    "with open('all_models.csv', 'w') as fp:\n",
    "    df.to_csv(fp)"
   ]
  },
  {
   "cell_type": "code",
   "execution_count": 80,
   "metadata": {},
   "outputs": [
    {
     "name": "stdout",
     "output_type": "stream",
     "text": [
      "       model     dataset mode                                path     value\n",
      "57  xception  cityscapes  RGB  ../models/temp/models/cityscape...  0.763971\n",
      "       model     dataset  mode                                path     value\n",
      "67  xception  cityscapes  RGBD  ../models/temp/models/cityscape...  0.780869\n",
      "       model     dataset        mode                                path  \\\n",
      "41  xception  cityscapes  RGB_HHAmid  ../models/temp/models/cityscape...   \n",
      "\n",
      "      value  \n",
      "41  0.67721  \n",
      "     model     dataset mode                                path    value\n",
      "49  resnet  cityscapes  RGB  ../models/temp/models/cityscape...  0.75386\n",
      "     model     dataset  mode                                path     value\n",
      "64  resnet  cityscapes  RGBD  ../models/temp/models/cityscape...  0.769716\n",
      "     model     dataset        mode                                path  \\\n",
      "38  resnet  cityscapes  RGB_HHAmid  ../models/temp/models/cityscape...   \n",
      "\n",
      "       value  \n",
      "38  0.772335  \n",
      "     model     dataset        mode                                path  \\\n",
      "34  resnet  cityscapes  RGB_HHAlat  ../models/temp/models/cityscape...   \n",
      "\n",
      "      value  \n",
      "34  0.76238  \n",
      "     model dataset mode                                path     value\n",
      "89  resnet    coco  RGB  ../models/temp/models/coco_rgb_...  0.402303\n",
      "     model dataset  mode                                path     value\n",
      "31  resnet    coco  RGBD  ../models/chameleon_run/run/coc...  0.388925\n"
     ]
    }
   ],
   "source": [
    "models = ['xception', 'resnet']\n",
    "datasets = ['cityscapes', 'coco', 'sunrgbd']\n",
    "modes = ['RGB', \"RGBD\", 'RGB_HHAmid', 'RGB_HHAlat']\n",
    "\n",
    "with open('top_models.csv', 'w') as fp:\n",
    "    header = True\n",
    "    for model in models:\n",
    "        for data in datasets:\n",
    "            for mode in modes:\n",
    "                if len(df[((df['model'] == model) & (df['dataset'] == data) & (df['mode'] == mode))].index) > 1:\n",
    "                    row = df[((df['model'] == model) & (df['dataset'] == data) & (df['mode'] == mode))]\n",
    "                    indices.append(row.index[0])\n",
    "                    print(row.head(1))\n",
    "                    row.head(1).to_csv(fp, header=header)\n",
    "                    header = False"
   ]
  },
  {
   "cell_type": "code",
   "execution_count": 74,
   "metadata": {},
   "outputs": [
    {
     "data": {
      "text/plain": [
       "[57, 67, 49, 64, 89, 31]"
      ]
     },
     "execution_count": 74,
     "metadata": {},
     "output_type": "execute_result"
    }
   ],
   "source": [
    "indices"
   ]
  },
  {
   "cell_type": "code",
   "execution_count": null,
   "metadata": {},
   "outputs": [],
   "source": []
  }
 ],
 "metadata": {
  "kernelspec": {
   "display_name": "Python 3",
   "language": "python",
   "name": "python3"
  },
  "language_info": {
   "codemirror_mode": {
    "name": "ipython",
    "version": 3
   },
   "file_extension": ".py",
   "mimetype": "text/x-python",
   "name": "python",
   "nbconvert_exporter": "python",
   "pygments_lexer": "ipython3",
   "version": "3.7.3"
  }
 },
 "nbformat": 4,
 "nbformat_minor": 4
}
