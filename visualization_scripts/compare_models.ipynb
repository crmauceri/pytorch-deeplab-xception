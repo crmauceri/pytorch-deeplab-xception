{
 "cells": [
  {
   "cell_type": "code",
   "execution_count": 38,
   "metadata": {},
   "outputs": [],
   "source": [
    "#!/usr/bin/python\n",
    "\n",
    "import os\n",
    "import pandas as pd\n",
    "\n",
    "import yaml\n",
    "\n",
    "# traverse root directory, and list directories as dirs and files as files\n",
    "model_results = {'model':[], 'dataset':[], 'mode':[], 'path':[], 'value':[]}\n",
    "for root, dirs, files in os.walk(\"../models/\"):\n",
    "    path = root.split(os.sep)\n",
    "    for file in files:\n",
    "        if file == \"best_pred.txt\":\n",
    "            path = os.path.join(root, file)\n",
    "            with open(os.path.join(root, 'parameters.txt'), 'r') as fp:\n",
    "                parameters = yaml.safe_load(fp)\n",
    "                \n",
    "                model_results['model'].append(parameters['MODEL']['BACKBONE'])\n",
    "                try:\n",
    "                    mode = parameters['DATASET']['MODE']\n",
    "                    if mode == \"RGB_HHA\":\n",
    "                        mode += parameters['MODEL']['NAME'][:3]\n",
    "                    model_results['mode'].append(mode)\n",
    "                except Exception as e:\n",
    "                    if \"USE_DEPTH\" in parameters['DATASET']:\n",
    "                        if parameters['DATASET']['USE_DEPTH']:\n",
    "                            model_results['mode'].append('RGBD')\n",
    "                        else:\n",
    "                            model_results['mode'].append('RGB')\n",
    "                    else:        \n",
    "                        if \"rgbd\" in parameters['TRAIN']['CHECKNAME']:\n",
    "                            model_results['mode'].append('RGBD')\n",
    "                        else:\n",
    "                            model_results['mode'].append('RGB')\n",
    "\n",
    "                model_results['dataset'].append(parameters['DATASET']['NAME'])\n",
    "           \n",
    "            with open(path, 'r') as fp:\n",
    "                value = float(fp.readline())\n",
    "                model_results['path'].append(path)\n",
    "                model_results['value'].append(value)"
   ]
  },
  {
   "cell_type": "code",
   "execution_count": 79,
   "metadata": {},
   "outputs": [],
   "source": [
    "pd.options.display.max_colwidth = 35\n",
    "pd.options.display.max_rows = 100\n",
    "\n",
    "df = pd.DataFrame(model_results)\n",
    "df = df.sort_values('value', ascending=False)\n",
    "\n",
    "with open('all_models.csv', 'w') as fp:\n",
    "    df.to_csv(fp)"
   ]
  },
  {
   "cell_type": "code",
   "execution_count": 80,
   "metadata": {},
   "outputs": [
    {
     "name": "stdout",
     "output_type": "stream",
     "text": [
      "       model     dataset mode                                path     value\n",
      "57  xception  cityscapes  RGB  ../models/temp/models/cityscape...  0.763971\n",
      "       model     dataset  mode                                path     value\n",
      "67  xception  cityscapes  RGBD  ../models/temp/models/cityscape...  0.780869\n",
      "       model     dataset        mode                                path  \\\n",
      "41  xception  cityscapes  RGB_HHAmid  ../models/temp/models/cityscape...   \n",
      "\n",
      "      value  \n",
      "41  0.67721  \n",
      "     model     dataset mode                                path    value\n",
      "49  resnet  cityscapes  RGB  ../models/temp/models/cityscape...  0.75386\n",
      "     model     dataset  mode                                path     value\n",
      "64  resnet  cityscapes  RGBD  ../models/temp/models/cityscape...  0.769716\n",
      "     model     dataset        mode                                path  \\\n",
      "38  resnet  cityscapes  RGB_HHAmid  ../models/temp/models/cityscape...   \n",
      "\n",
      "       value  \n",
      "38  0.772335  \n",
      "     model     dataset        mode                                path  \\\n",
      "34  resnet  cityscapes  RGB_HHAlat  ../models/temp/models/cityscape...   \n",
      "\n",
      "      value  \n",
      "34  0.76238  \n",
      "     model dataset mode                                path     value\n",
      "89  resnet    coco  RGB  ../models/temp/models/coco_rgb_...  0.402303\n",
      "     model dataset  mode                                path     value\n",
      "31  resnet    coco  RGBD  ../models/chameleon_run/run/coc...  0.388925\n"
     ]
    }
   ],
   "source": [
    "models = ['xception', 'resnet']\n",
    "datasets = ['cityscapes', 'coco', 'sunrgbd']\n",
    "modes = ['RGB', \"RGBD\", 'RGB_HHAmid', 'RGB_HHAlat']\n",
    "\n",
    "with open('top_models.csv', 'w') as fp:\n",
    "    header = True\n",
    "    for model in models:\n",
    "        for data in datasets:\n",
    "            for mode in modes:\n",
    "                if len(df[((df['model'] == model) & (df['dataset'] == data) & (df['mode'] == mode))].index) > 1:\n",
    "                    row = df[((df['model'] == model) & (df['dataset'] == data) & (df['mode'] == mode))]\n",
    "                    indices.append(row.index[0])\n",
    "                    print(row.head(1))\n",
    "                    row.head(1).to_csv(fp, header=header)\n",
    "                    header = False"
   ]
  },
  {
   "cell_type": "code",
   "execution_count": 74,
   "metadata": {},
   "outputs": [
    {
     "data": {
      "text/plain": [
       "[57, 67, 49, 64, 89, 31]"
      ]
     },
     "execution_count": 74,
     "metadata": {},
     "output_type": "execute_result"
    }
   ],
   "source": [
    "indices"
   ]
  },
  {
   "cell_type": "code",
   "execution_count": null,
   "metadata": {},
   "outputs": [],
   "source": []
  }
 ],
 "metadata": {
  "kernelspec": {
   "display_name": "Python 3",
   "language": "python",
   "name": "python3"
  },
  "language_info": {
   "codemirror_mode": {
    "name": "ipython",
    "version": 3
   },
   "file_extension": ".py",
   "mimetype": "text/x-python",
   "name": "python",
   "nbconvert_exporter": "python",
   "pygments_lexer": "ipython3",
   "version": "3.7.3"
  }
 },
 "nbformat": 4,
 "nbformat_minor": 4
}
